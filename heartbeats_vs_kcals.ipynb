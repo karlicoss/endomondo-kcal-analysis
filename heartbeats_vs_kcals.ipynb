{
 "cells": [
  {
   "cell_type": "markdown",
   "metadata": {},
   "source": [
    "The other day I got curious how Endomondo estimates energy expenditure during the exercise.\n",
    "\n",
    "On [their website](https://support.endomondo.com/hc/en-us/articles/201861383-Calories), they mention some paywalled paper, but no specifics, so I figured it'd be interesting to reverse engineer that myself. I've extracted endomondo data from their JSON export and plotted a regression.\n",
    "\n",
    "I'm using [Wahoo TickrX chest strap monitor](https://uk.wahoofitness.com/devices/heart-rate-monitors/wahoo-tickr-x-heart-rate-strap), so the HR data coming from it is pretty decent. "
   ]
  },
  {
   "cell_type": "markdown",
   "metadata": {},
   "source": [
    "First, I'm importing the dataframe from the python package I'm using to interact with my data. (I've mentioned it [here](https://beepb00p.xyz/annotating.html#infra)).\n",
    "\n",
    "It's private at the moment, but it's pretty specific to my use cases and the only interfacing in this post it through Pandas dataframe, so hopefully that wouldn't confuse you."
   ]
  },
  {
   "cell_type": "code",
   "execution_count": null,
   "metadata": {},
   "outputs": [],
   "source": [
    "from my.workouts.dataframes import endomondo\n",
    "df = endomondo()"
   ]
  },
  {
   "cell_type": "markdown",
   "metadata": {},
   "source": [
    "Some sample data:"
   ]
  },
  {
   "cell_type": "code",
   "execution_count": null,
   "metadata": {},
   "outputs": [],
   "source": [
    "display(df[df['dt'].apply(lambda dt: str(dt.date())) == '2019-04-21'])"
   ]
  },
  {
   "cell_type": "markdown",
   "metadata": {},
   "source": [
    "Heartbeats were calculated as average HR multiplied by the duration of exercise.\n",
    "\n",
    "Error column is a neat way of propagating exceptions from data provider.\n",
    "\n",
    "E.g. I only have HR data for the last couple of years or so, so data provider doesn't have any of HR points from endomondo. While I could filter out these points in the data provider, they might still be useful for other plots and analysis pipelines (e.g. if I was actually only interested in kcals and didn't hare about heartbeats).\n",
    "\n",
    "Instead, I'm just being defensive and propagating exceptions up through the dataframe, leaving it up to the user to handle them."
   ]
  },
  {
   "cell_type": "code",
   "execution_count": null,
   "metadata": {},
   "outputs": [],
   "source": [
    "display(df[df['dt'].apply(lambda dt: str(dt.date())).isin(['2015-03-06', '2018-05-28'])])"
   ]
  },
  {
   "cell_type": "markdown",
   "metadata": {},
   "source": [
    "So, first we filter out the entries with errors:"
   ]
  },
  {
   "cell_type": "code",
   "execution_count": null,
   "metadata": {},
   "outputs": [],
   "source": [
    "df = df[df['error'].isnull()]"
   ]
  },
  {
   "cell_type": "markdown",
   "metadata": {},
   "source": [
    "As well as some random entries which would end up as outliers:"
   ]
  },
  {
   "cell_type": "code",
   "execution_count": null,
   "metadata": {},
   "outputs": [],
   "source": [
    "df = df.groupby(['sport']).filter(lambda grp: len(grp) >= 10) "
   ]
  },
  {
   "cell_type": "code",
   "execution_count": null,
   "metadata": {},
   "outputs": [],
   "source": [
    "%matplotlib inline\n",
    "import matplotlib\n",
    "from matplotlib import pyplot as plt\n",
    "import seaborn as sns\n",
    "\n",
    "matplotlib.rc('font', size=17, weight='regular')\n",
    "\n",
    "sports = {\n",
    "    g: len(f) for g, f in df.groupby(['sport'])\n",
    "}\n",
    "\n",
    "g = sns.lmplot(\n",
    "    data=df,\n",
    "    x='kcal',\n",
    "    y='heartbeats',\n",
    "    hue='sport', \n",
    "    hue_order=sports.keys(),\n",
    "    legend_out=False,\n",
    "    height=15,\n",
    ")\n",
    "g.set(\n",
    "    title='Dependency between total heartbeats and Kcals (estimated by Endomondo)',\n",
    "    \n",
    "    xlim=(0, None), \n",
    "    xlabel='Kcal',\n",
    "    \n",
    "    ylim=(0, None),\n",
    "    ylabel='Heartbeats, total'\n",
    ")\n",
    "# https://stackoverflow.com/a/55108651/706389\n",
    "plt.legend(\n",
    "    title='Sport',\n",
    "    labels=[f'{s} ({cnt} points)' for s, cnt in sports.items()],\n",
    "    loc='upper left',\n",
    "   #  fontsize='xx-large',\n",
    ")\n",
    "pass"
   ]
  },
  {
   "cell_type": "markdown",
   "metadata": {},
   "source": [
    "Unsurprising, it looks like it's a simple linear model (considering my weight and age didn't change significantly).\n",
    "\n",
    "What I find interesting is that for instance for me, running feels way more intense than any of other cardio I'm doing, definitely way harder than skiing!\n",
    "\n",
    "However the regression coeffecient (basically, calories burnt per 'unit of heart activity') is more or less same. I guess that could potentially be explained by the fact that running involves more muscle activity, which Endomondo can't capture and doesn't try to infer from the exercise type (which you enter manually when you start logging the exercise).\n",
    "\n",
    "With regards to the actual regression coefficient: seaborn wouldn't let you display them on the regplot (the author has a very strong opition about that, [apparently](https://github.com/mwaskom/seaborn/issues/655#issuecomment-370079702)), so we use `sklearn` to do that for us:"
   ]
  },
  {
   "cell_type": "code",
   "execution_count": null,
   "metadata": {},
   "outputs": [],
   "source": [
    "from sklearn import linear_model\n",
    "\n",
    "reg = linear_model.LinearRegression()\n",
    "reg.fit(df[['heartbeats']], df['kcal'])\n",
    "\n",
    "[coef] = reg.coef_\n",
    "free = reg.intercept_\n",
    "\n",
    "display(f\"Regression coefficient: {coef}\")\n",
    "display(f\"Free term: {free}\")"
   ]
  },
  {
   "cell_type": "markdown",
   "metadata": {},
   "source": [
    "Basically, that means we get about `0.1` Kcal for each heartbeat during exercise. Free term ideally should be equal to `0` (i.e. just as a sanity sort of thing: not having heartbeat shouldn't result in calorie loss), and `-10` is close enough.\n",
    "\n",
    "Also, fun calculation:"
   ]
  },
  {
   "cell_type": "code",
   "execution_count": null,
   "metadata": {},
   "outputs": [],
   "source": [
    "normal_bpm = 60\n",
    "minutes_in_day = 24 * 60\n",
    "\n",
    "coef * normal_bpm * minutes_in_day"
   ]
  },
  {
   "cell_type": "markdown",
   "metadata": {},
   "source": [
    "8K Kcals per day? A bit too much for an average person. I wouldn't draw any conclusions from that one though :)"
   ]
  },
  {
   "cell_type": "code",
   "execution_count": null,
   "metadata": {
    "noexport": true,
    "tags": [
     "noexport"
    ]
   },
   "outputs": [],
   "source": [
    "# import plotly.express as px # type: ignore\n",
    "# f = px.scatter(df, x='kcal', y='heartbeats', color='sport')\n",
    "# display(f)"
   ]
  }
 ],
 "metadata": {
  "celltoolbar": "Tags",
  "kernelspec": {
   "display_name": "Python 3",
   "language": "python",
   "name": "python3"
  },
  "language_info": {
   "codemirror_mode": {
    "name": "ipython",
    "version": 3
   },
   "file_extension": ".py",
   "mimetype": "text/x-python",
   "name": "python",
   "nbconvert_exporter": "python",
   "pygments_lexer": "ipython3",
   "version": "3.7.3"
  }
 },
 "nbformat": 4,
 "nbformat_minor": 2
}
