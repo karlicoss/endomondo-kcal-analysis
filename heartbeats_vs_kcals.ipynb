{
 "cells": [
  {
   "cell_type": "markdown",
   "metadata": {},
   "source": [
    "First, I'm importing the dataframe from the python package I'm using to interact with my data. (I've mentioned it [here](https://beepb00p.xyz/annotating.html#infra)).\n",
    "\n",
    "It's private at the moment, but it's pretty specific to my usecases and the only interfacing in this post it throught Pandas dataframe, so hopefully that wouldn't confuse you."
   ]
  },
  {
   "cell_type": "code",
   "execution_count": null,
   "metadata": {},
   "outputs": [],
   "source": [
    "from my.workouts.dataframes import endomondo\n",
    "df = endomondo()"
   ]
  },
  {
   "cell_type": "markdown",
   "metadata": {},
   "source": [
    "Some sample data:"
   ]
  },
  {
   "cell_type": "code",
   "execution_count": null,
   "metadata": {},
   "outputs": [],
   "source": [
    "display(df[df['dt'].apply(lambda dt: str(dt.date())) == '2019-04-21'])"
   ]
  },
  {
   "cell_type": "markdown",
   "metadata": {},
   "source": [
    "Error column is a neat way of propagating exceptions from data provider.\n",
    "\n",
    "E.g. I only have HR data for the last couple of years or so, so data provider doesn't have any of HR points from endomondo. While I could filter out these points in the data provider, they might still be useful for other plots and analysis pipelines (e.g. if I was actually only interested in kcals and didn't hare about heartbeats).\n",
    "\n",
    "Instead, I'm just being defensive and propagating exceptions up through the dataframe, leaving it up to the user to handle them."
   ]
  },
  {
   "cell_type": "code",
   "execution_count": null,
   "metadata": {},
   "outputs": [],
   "source": [
    "display(df[df['dt'].apply(lambda dt: str(dt.date())).isin(['2015-03-06', '2018-05-28'])])"
   ]
  },
  {
   "cell_type": "markdown",
   "metadata": {},
   "source": [
    "So, first we filter out the entries with errors:"
   ]
  },
  {
   "cell_type": "code",
   "execution_count": null,
   "metadata": {},
   "outputs": [],
   "source": [
    "df = df[df['error'].isnull()]"
   ]
  },
  {
   "cell_type": "markdown",
   "metadata": {},
   "source": [
    "As well as some random entries which would end up as outliers:"
   ]
  },
  {
   "cell_type": "code",
   "execution_count": null,
   "metadata": {},
   "outputs": [],
   "source": [
    "df = df.groupby(['sport']).filter(lambda grp: len(grp) >= 10) "
   ]
  },
  {
   "cell_type": "code",
   "execution_count": null,
   "metadata": {},
   "outputs": [],
   "source": [
    "%matplotlib inline\n",
    "import matplotlib\n",
    "from matplotlib import pyplot as plt\n",
    "import seaborn as sns\n",
    "\n",
    "matplotlib.rc('font', size=17, weight='regular')\n",
    "\n",
    "sports = {\n",
    "    g: len(f) for g, f in df.groupby(['sport'])\n",
    "}\n",
    "\n",
    "g = sns.lmplot(\n",
    "    data=df,\n",
    "    x='kcal',\n",
    "    y='heartbeats',\n",
    "    hue='sport', \n",
    "    hue_order=sports.keys(),\n",
    "    legend_out=False,\n",
    "    height=15,\n",
    ")\n",
    "g.set(\n",
    "    title='Dependency between total heartbeats and Kcals (estimated by Endomondo)',\n",
    "    \n",
    "    xlim=(0, None), \n",
    "    xlabel='Kcal',\n",
    "    \n",
    "    ylim=(0, None),\n",
    "    ylabel='Heartbeats, total'\n",
    ")\n",
    "# https://stackoverflow.com/a/55108651/706389\n",
    "plt.legend(\n",
    "    title='Sport',\n",
    "    labels=[f'{s} ({cnt} points)' for s, cnt in sports.items()],\n",
    "    loc='upper left',\n",
    "   #  fontsize='xx-large',\n",
    ")\n",
    "pass"
   ]
  },
  {
   "cell_type": "code",
   "execution_count": null,
   "metadata": {
    "noexport": true,
    "tags": [
     "noexport"
    ]
   },
   "outputs": [],
   "source": [
    "# import plotly.express as px # type: ignore\n",
    "# f = px.scatter(df, x='kcal', y='heartbeats', color='sport')\n",
    "# display(f)"
   ]
  }
 ],
 "metadata": {
  "celltoolbar": "Tags",
  "kernelspec": {
   "display_name": "Python 3",
   "language": "python",
   "name": "python3"
  },
  "language_info": {
   "codemirror_mode": {
    "name": "ipython",
    "version": 3
   },
   "file_extension": ".py",
   "mimetype": "text/x-python",
   "name": "python",
   "nbconvert_exporter": "python",
   "pygments_lexer": "ipython3",
   "version": "3.7.3"
  }
 },
 "nbformat": 4,
 "nbformat_minor": 2
}
