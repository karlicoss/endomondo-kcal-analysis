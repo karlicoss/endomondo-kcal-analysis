{
 "cells": [
  {
   "cell_type": "markdown",
   "metadata": {},
   "source": [
    "The other day I got curious how Endomondo estimates energy expenditure during the exercise.\n",
    "\n",
    "On [their website](https://support.endomondo.com/hc/en-us/articles/201861383-Calories), they mention some paywalled paper, but no specifics, so I figured it'd be interesting to reverse engineer that myself. I've extracted endomondo data from their JSON export and plotted a regression.\n",
    "\n",
    "I'm using [Wahoo TickrX chest strap monitor](https://uk.wahoofitness.com/devices/heart-rate-monitors/wahoo-tickr-x-heart-rate-strap), so the HR data coming from it is pretty decent. "
   ]
  },
  {
   "cell_type": "markdown",
   "metadata": {},
   "source": [
    "First, I'm importing the dataframe from the python package I'm using to interact with my data. I write about it [here](https://beepb00p.xyz/mypkg.html).\n",
    "\n",
    "All the data is provided by this package, but otherwise it's just a Pandas dataframe, so hopefully, that wouldn't confuse you."
   ]
  },
  {
   "cell_type": "code",
   "execution_count": null,
   "metadata": {},
   "outputs": [],
   "source": [
    "from my.workouts.dataframes import endomondo\n",
    "df = endomondo()"
   ]
  },
  {
   "cell_type": "markdown",
   "metadata": {},
   "source": [
    "Some sample data:"
   ]
  },
  {
   "cell_type": "code",
   "execution_count": null,
   "metadata": {},
   "outputs": [],
   "source": [
    "display(df[df['dt'].apply(lambda dt: str(dt.date())) == '2019-04-21'])"
   ]
  },
  {
   "cell_type": "markdown",
   "metadata": {},
   "source": [
    "Sport type is entered manually when you start recording exercise activity in Endomondo.\n",
    "\n",
    "Heartbeats were calculated as average HR multiplied by the duration of the exercise.\n",
    "\n",
    "Error column is a neat way of propagating exceptions from the data provider.\n",
    "E.g. I only have HR data for the last couple of years or so, so data provider doesn't have any of HR points from endomondo. While I could filter out these points in the data provider, they might still be useful for other plots and analysis pipelines (e.g. if I was actually only interested in kcals and didn't hare about heartbeats).\n",
    "\n",
    "Instead, I'm just being defensive and propagating exceptions up through the dataframe, leaving it up to the user to handle them."
   ]
  },
  {
   "cell_type": "code",
   "execution_count": null,
   "metadata": {},
   "outputs": [],
   "source": [
    "display(df[df['dt'].apply(lambda dt: str(dt.date())).isin(['2015-03-06', '2018-05-28'])])"
   ]
  },
  {
   "cell_type": "markdown",
   "metadata": {},
   "source": [
    "So, first we filter out the entries with errors:"
   ]
  },
  {
   "cell_type": "code",
   "execution_count": null,
   "metadata": {},
   "outputs": [],
   "source": [
    "df = df[df['error'].isnull() & (df['sport'] != 'Other')]"
   ]
  },
  {
   "cell_type": "markdown",
   "metadata": {},
   "source": [
    "As well as some random entries which would end up as outliers:"
   ]
  },
  {
   "cell_type": "code",
   "execution_count": null,
   "metadata": {},
   "outputs": [],
   "source": [
    "df = df.groupby(['sport']).filter(lambda grp: len(grp) >= 10) "
   ]
  },
  {
   "cell_type": "code",
   "execution_count": null,
   "metadata": {
    "collapsed-summary": "hack to make seaborn plots deterministic",
    "tags": [
     "collapsed"
    ]
   },
   "outputs": [],
   "source": [
    "import seaborn as sns\n",
    "# TODO after 0.9.0+ released, use 'seed' argument in plots? https://github.com/mwaskom/seaborn/pull/1926\n",
    "# also add # truncate=False for regplot/lmplot\n",
    "if sns.algorithms.bootstrap.__module__ == 'seaborn.algorithms':\n",
    "    # prevents nondeterminism in plots https://github.com/mwaskom/seaborn/issues/1924\n",
    "    # we only want to do it once\n",
    "    def bootstrap_hacked(*args, bootstrap_orig = sns.algorithms.bootstrap, **kwargs):\n",
    "        return bootstrap_orig(*args, random_seed=0, **kwargs)\n",
    "    \n",
    "    sns.algorithms.bootstrap = bootstrap_hacked"
   ]
  },
  {
   "cell_type": "code",
   "execution_count": null,
   "metadata": {
    "autoscroll": false,
    "ein.hycell": false,
    "ein.tags": "worksheet-0",
    "slideshow": {
     "slide_type": "-"
    }
   },
   "outputs": [],
   "source": [
    "%matplotlib inline\n",
    "import matplotlib\n",
    "import matplotlib.pyplot as plt\n",
    "plt.style.use('seaborn')\n",
    "import seaborn as sns\n",
    "sns.set(font_scale=1.5)\n",
    "# NOEXPORT ugh, too much fiddling with params.\n",
    "\n",
    "sports = {\n",
    "    g: len(f) for g, f in df.groupby(['sport'])\n",
    "}\n",
    "\n",
    "g = sns.lmplot(\n",
    "    data=df,\n",
    "    x='heartbeats',\n",
    "    y='kcal',\n",
    "    hue='sport', \n",
    "    hue_order=sports.keys(),\n",
    "    legend_out=False,\n",
    "    height=15,\n",
    "    palette='colorblind',\n",
    ")\n",
    "ax = g.ax\n",
    "ax.set_title('Dependency of energy spent during exercise on number of heartbeats')\n",
    "\n",
    "ax.set_xlim((0, None))\n",
    "ax.set_xlabel('Total heartbeats, measured by chest strap HR monitor')\n",
    "\n",
    "ax.set_ylim((0, None))\n",
    "ax.set_ylabel('Kcal,\\nEndomondo\\nestimate', rotation=0, y=1.0)\n",
    "\n",
    "# https://stackoverflow.com/a/55108651/706389\n",
    "plt.legend(\n",
    "    title='Sport',\n",
    "    labels=[f'{s} ({cnt} points)' for s, cnt in sports.items()],\n",
    "    loc='upper left',\n",
    ")\n",
    "pass"
   ]
  },
  {
   "cell_type": "markdown",
   "metadata": {},
   "source": [
    "Unsurprisingly, it looks like a simple linear model (considering my weight and age have barely changed).\n",
    "\n",
    "What I find unexpected is that the slope/regression coefficient (i.e. calories burnt per heartbeat) is more or less the same. Personally, for me running feels way more intense than any of other cardio I'm doing, definitely way harder than skiing! There are two possibilities here:\n",
    "\n",
    "- Endomondo can't capture dynamic muscle activity and isn't even trying to use exercise type provided by the user for a better estimate.\n",
    "\n",
    "- Energy is mostly burnt by the heart and other muscles don't actually matter or have a very minor impact.\n",
    "    \n",
    "Let's try and check the latter via some back of an envelope calculation.\n",
    "\n",
    "In order to run, you use your chemical energy to move your body up and forward. For simplicity, let's only consider 'up' movements that go against gravity, it feels like these would dominate energy spendings. So let's model running as a sequence of vertical jumps. My estimate would be that when you run you jumps are about 5 cm in height.\n",
    "\n",
    "We can find out how much energy each jump takes by using $\\Delta U = m g \\Delta h$ [formula](https://en.wikipedia.org/wiki/Potential_energy#Gravitational_potential_energy).\n"
   ]
  },
  {
   "cell_type": "code",
   "execution_count": null,
   "metadata": {},
   "outputs": [],
   "source": [
    "g = 9.82 # standard Earth gravity\n",
    "weight = 65 # kg\n",
    "stride_height = 5 / 100 # convert cm to m\n",
    "\n",
    "strides_per_minute = 160 # ish, varies for different people\n",
    "duration = 60 # minutes\n",
    "joules_in_kcal = 4184 \n",
    "\n",
    "energy_per_stride = weight * g * stride_height\n",
    "\n",
    "leg_energy_kcal = energy_per_stride *  strides_per_minute * duration / joules_in_kcal\n",
    "print(leg_energy_kcal)"
   ]
  },
  {
   "cell_type": "markdown",
   "metadata": {},
   "source": [
    "So, 70 kcal is fairly low in comparison with typical numbers Endomondo reports for my exercise. \n",
    "\n",
    "This is a very rough calculation of course:\n",
    "\n",
    "- In reality movements during running are more complex, so it could be an underestimate\n",
    "- On the other hand, feet can also spring, so not all energy spent on the stride is lost completely, so it could be an overestimate\n",
    "\n",
    "\n",
    "With regards to the actual value of the regression coefficient: seaborn [wouldn't let you](https://github.com/mwaskom/seaborn/issues/655#issuecomment-370079702) display them on the regplot, so we use `sklearn` to do that for us:"
   ]
  },
  {
   "cell_type": "code",
   "execution_count": null,
   "metadata": {},
   "outputs": [],
   "source": [
    "from sklearn import linear_model\n",
    "\n",
    "reg = linear_model.LinearRegression()\n",
    "reg.fit(df[['heartbeats']], df['kcal'])\n",
    "\n",
    "[coef] = reg.coef_\n",
    "free = reg.intercept_\n",
    "\n",
    "print(f\"Regression coefficient: {coef:.3f}\")\n",
    "print(f\"Free term: {free:.3f}\")"
   ]
  },
  {
   "cell_type": "markdown",
   "metadata": {},
   "source": [
    "Basically, that means I get about `0.1` Kcal for each heartbeat during exercise. Free term ideally should be equal to `0` (i.e. just as a sanity sort of thing: not having heartbeat shouldn't result in calorie loss), and `-10` is close enough.\n",
    "\n",
    "Also, fun calculation: what if we fit the model we got to normal, resting heart rate?"
   ]
  },
  {
   "cell_type": "code",
   "execution_count": null,
   "metadata": {},
   "outputs": [],
   "source": [
    "normal_bpm = 60\n",
    "minutes_in_day = 24 * 60\n",
    "\n",
    "print(f'{coef * normal_bpm * minutes_in_day:.3f}')"
   ]
  },
  {
   "cell_type": "markdown",
   "metadata": {},
   "source": [
    "8K Kcals per day? A bit too much for an average person. I wouldn't draw any conclusions from that one though :)"
   ]
  },
  {
   "cell_type": "markdown",
   "metadata": {},
   "source": [
    "You can find the source of this notebook [here](https://github.com/karlicoss/endomondo-kcal-analysis)."
   ]
  },
  {
   "cell_type": "code",
   "execution_count": null,
   "metadata": {
    "noexport": true,
    "tags": [
     "noexport"
    ]
   },
   "outputs": [],
   "source": [
    "# import plotly.express as px # type: ignore\n",
    "# f = px.scatter(df, x='kcal', y='heartbeats', color='sport')\n",
    "# display(f)"
   ]
  }
 ],
 "metadata": {
  "celltoolbar": "Tags",
  "kernelspec": {
   "display_name": "Python 3",
   "language": "python",
   "name": "python3"
  },
  "language_info": {
   "codemirror_mode": {
    "name": "ipython",
    "version": 3
   },
   "file_extension": ".py",
   "mimetype": "text/x-python",
   "name": "python",
   "nbconvert_exporter": "python",
   "pygments_lexer": "ipython3",
   "version": "3.7.3"
  }
 },
 "nbformat": 4,
 "nbformat_minor": 2
}
