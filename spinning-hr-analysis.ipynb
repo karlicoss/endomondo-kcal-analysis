{
 "cells": [
  {
   "cell_type": "markdown",
   "metadata": {},
   "source": [
    "I was curious how effort exerted during the exercise impacts heart rate and whether that correlates strongly with subjective fatigue and exhaustion.\n",
    "\n",
    "It seemed that easiest way to experiment would be spinning machine. Running only has single variable, speed. One could f change incline, but that would be harder to predict.\n",
    "\n",
    "For elliptical machine or rowing machine it would be even more complicated!\n",
    "\n",
    "With stationary bike, there are two variables that potentially impact power you need to exert:\n",
    "\n",
    "- revolitions per minute, or angular velocity, that has linear effect on power (no air resistance as it's stationary!)\n",
    "- resistance, which isn't exactly specified, but one would expect it to be proportional to the force you have to apply (i.e. [torque](https://en.wikipedia.org/wiki/Torque))\n",
    "\n",
    "The [spinning machine](https://www.technogym.com/gb/indoor-cycling-live-bike.html) I was using displays the pace (i.e. revolutions per minute), so all you have to do is maintain it. In addition it's displaying current resistance level and reports power in watts.\n",
    "\n",
    "During exercise, I'm using a chest HR tracker, so simplest thing to do would be take whatever power spinning machine reports and try to find correlation with moving total/average of HR.\n",
    "\n",
    "However, being paranoid and lacking any documentation for the machine, I decided no to trust its numbers blindly and check them instead. Technogym's website doesn't help in clarifying how power is computed. They have some sensible information [like](https://www.technogym.com/gb/newsroom/power-meter-what-is-how-it-works):\n",
    "\n",
    "> The power meter must be accurate.\n",
    "\n",
    "> The power measurement must be precise and repeatable. A 3-5 watt error is not significant, but if a system is not reliable there may be deviations of many tens of watts, i.e. equal to or greater than the amount of power that is gained from one year's training.\n",
    "\n",
    "Let's see how accurate is their power meter!"
   ]
  },
  {
   "cell_type": "markdown",
   "metadata": {},
   "source": [
    "Throughout different exercivse sessions, I've taken bunch of measurements of RPM, resistance and power:"
   ]
  },
  {
   "cell_type": "code",
   "execution_count": null,
   "metadata": {
    "autoscroll": false,
    "ein.hycell": false,
    "ein.tags": "worksheet-0",
    "slideshow": {
     "slide_type": "-"
    },
    "tags": [
     "collapsed"
    ]
   },
   "outputs": [],
   "source": [
    "# TODO could only collapse inputs?\n",
    "# # NOEXPORT even assuming it's 8.5, not 8 or 9.5 not 10 doesn' help at all\n",
    "datas = \"\"\"\n",
    "58 10 129\n",
    "56 10 127\n",
    "56 10 127\n",
    "56 8  94\n",
    "57 8  98\n",
    "56 8  94\n",
    "58 10 133\n",
    "56 10 126\n",
    "56 8  93\n",
    "55 8  91\n",
    "56 8  94\n",
    "56 10 128\n",
    "55 10 124\n",
    "54 10 119\n",
    "53 8  87\n",
    "55 8  93\n",
    "55 8  90\n",
    "95 8  240\n",
    "\n",
    "70 10 198\n",
    "55 8  85\n",
    "95 8  226\n",
    "95 8  229\n",
    "95 8  228\n",
    "95 8  227\n",
    "\n",
    "97 8  236\n",
    "95 8  227\n",
    "95 8  227\n",
    "95 8  230\n",
    "60 10 156\n",
    "61 10 154\n",
    "62 10 162\n",
    "61 10 156\n",
    "55 10 125\n",
    "56 10 128\n",
    "57 8  89\n",
    "56 8  87\n",
    "57 8  90\n",
    "57 8  91\n",
    "60 8  101\n",
    "56 10 129\n",
    "57 10 131\n",
    "\"\"\"\n",
    "import pandas as pd\n",
    "df = pd.DataFrame(\n",
    "    (map(int, l.split()) for l in datas.splitlines() if len(l.strip()) > 0),\n",
    "    columns=['rpm', 'resistance', 'watts'],\n",
    ")\n",
    "# btw, if anyone knows a more elegant way of conveting such a table in dataframe, I'd be happy to know!"
   ]
  },
  {
   "cell_type": "code",
   "execution_count": null,
   "metadata": {},
   "outputs": [],
   "source": [
    "display(df.sample(10, random_state=0))"
   ]
  },
  {
   "cell_type": "markdown",
   "metadata": {},
   "source": [
    "I't reasonable to assume that power depends linearly both on RPM and resistance, so we conjecture `watts = rpm x resistance`. Let's see if it holds against what the spinning machine reports:"
   ]
  },
  {
   "cell_type": "code",
   "execution_count": null,
   "metadata": {
    "autoscroll": false,
    "ein.hycell": false,
    "ein.tags": "worksheet-0",
    "slideshow": {
     "slide_type": "-"
    }
   },
   "outputs": [],
   "source": [
    "%matplotlib inline\n",
    "from matplotlib import pyplot as plt\n",
    "import seaborn as sns\n",
    "import matplotlib\n",
    "matplotlib.rc('font', size=17, weight='regular')\n",
    "\n",
    "dff = df.copy()\n",
    "dff['rpm x resistance'] = df['rpm'] * df['resistance']\n",
    "\n",
    "fig, ax = plt.subplots(figsize=(10, 10))\n",
    "plt.xlim((0, max(dff['rpm x resistance']) * 1.1))\n",
    "plt.ylim((0, max(dff['watts']) * 1.1))\n",
    "plt.grid(True)\n",
    "\n",
    "# NOEXPORT ax = dff.plot(x='rpm x resistance', y='watts', kind='scatter')\n",
    "# NOEXPORT height=15,\n",
    "# NOEXPORT legend_out=False,\n",
    "# NOEXPORT palette='colorblind',\n",
    "g = sns.regplot(\n",
    "    data=dff,\n",
    "    x='rpm x resistance', y='watts',\n",
    "    ax=ax,\n",
    ")\n",
    "\n",
    "plt.xlabel('Power, theoretical, angular velocity multiplied by resistance')\n",
    "plt.ylabel('Power, watts as reported by the machine')\n",
    "\n",
    "plt.show()"
   ]
  },
  {
   "cell_type": "code",
   "execution_count": null,
   "metadata": {
    "autoscroll": false,
    "ein.hycell": false,
    "ein.tags": "worksheet-0",
    "slideshow": {
     "slide_type": "-"
    }
   },
   "outputs": [],
   "source": [
    "import statsmodels.api as sm\n",
    "# TODO NOEXPORT ugh. doens't really work for simple regression plot?\n",
    "# NOEXPORT res = sm.formula.ols(\"watts ~ 'rpm x resistance'\", data=dff).fit()\n",
    "X = dff[['rpm x resistance']]\n",
    "X = sm.add_constant(X)\n",
    "# TODO NOEXPORT ugh, need to add constant explicitly?\n",
    "res = sm.OLS(dff['watts'], X).fit()\n",
    "print(res.summary())"
   ]
  },
  {
   "cell_type": "markdown",
   "metadata": {},
   "source": [
    "Wow, that doesn't look so well. \n",
    "\n",
    "Free parameter is about `-100` watts, which is quite a lot considering my high internsity intervals are `250` watts. \n",
    "I don't think it can be explained by friction either: if anything, friction would shift the plot up and make the free coeffecient positive.\n",
    "\n",
    "At this point, I'm not sure what it means. I guess I'll try to make more measurements at really low resistances and speeds to make the model more complete, but I would be too surprised if either watts or resistance reported by the machine are just made up."
   ]
  }
 ],
 "metadata": {
  "celltoolbar": "Tags",
  "kernelspec": {
   "display_name": "Python 3",
   "language": "python",
   "name": "python3"
  },
  "language_info": {
   "codemirror_mode": {
    "name": "ipython",
    "version": 3
   },
   "file_extension": ".py",
   "mimetype": "text/x-python",
   "name": "python",
   "nbconvert_exporter": "python",
   "pygments_lexer": "ipython3",
   "version": "3.7.3"
  },
  "name": "spinning-hr-analysis.ipynb"
 },
 "nbformat": 4,
 "nbformat_minor": 2
}
