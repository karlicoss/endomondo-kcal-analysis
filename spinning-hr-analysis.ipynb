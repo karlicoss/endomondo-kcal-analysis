{
 "cells": [
  {
   "cell_type": "code",
   "execution_count": null,
   "metadata": {
    "autoscroll": false,
    "ein.hycell": false,
    "ein.tags": "worksheet-0",
    "slideshow": {
     "slide_type": "-"
    }
   },
   "outputs": [],
   "source": [
    "datas = \"\"\"\n",
    "58 10 129\n",
    "56 10 127\n",
    "56 10 127\n",
    "56 8  94\n",
    "57 8  98\n",
    "56 8  94\n",
    "58 10 133\n",
    "56 10 126\n",
    "56 8  93\n",
    "55 8  91\n",
    "56 8  94\n",
    "56 10 128\n",
    "55 10 124\n",
    "54 10 119\n",
    "53 8  87\n",
    "55 8  93\n",
    "55 8  90\n",
    "95 8  240\n",
    "\"\"\".strip()\n",
    "\n",
    "datas2 = \"\"\"\n",
    "2  3 6\n",
    "10 8 81\n",
    "8  8 65\n",
    "4  5 19\n",
    "3 8  22\n",
    "7 7  49\n",
    "\"\"\"\n",
    "\n",
    "import pandas as pd\n",
    "df = pd.DataFrame(\n",
    "    (map(float, l.split()) for l in datas.splitlines()),\n",
    "    columns=['rpm', 'resistance', 'watts'],\n",
    ")\n",
    "# btw, if anyone knows a more elegant way of conveting such a table in dataframe, I'd be happy to know!\n",
    "print(df)\n"
   ]
  },
  {
   "cell_type": "code",
   "execution_count": null,
   "metadata": {
    "autoscroll": false,
    "ein.hycell": false,
    "ein.tags": "worksheet-0",
    "slideshow": {
     "slide_type": "-"
    }
   },
   "outputs": [],
   "source": [
    "from matplotlib import pyplot as plt\n",
    "import seaborn as sns\n",
    "\n",
    "dff = df.copy()\n",
    "dff['rpm * resistance'] = df['rpm'] * df['resistance']\n",
    "sns.lmplot(data=dff, x='rpm * resistance', y='watts')\n",
    "\n",
    "import matplotlib\n",
    "matplotlib.rc('font', size=17, weight='regular')\n",
    "\n",
    "import statsmodels.api as sm\n",
    "\n",
    "# TODO ugh. doens't really work for simple regression plot?\n",
    "res = sm.formula.ols(\"watts ~ rpm * resistance\", data=df).fit()\n",
    "print(res.summary())\n",
    "\n",
    "# import matplotlib.pyplot as plt\n",
    "# fig, ax = plt.subplots()\n",
    "# sm.graphics.plot_regress_exog(res, 'rpm:resistance', fig=fig).show()\n",
    "# fig = sm.graphics.plot_fit(res, 'rpm:resistance', ax=ax)\n",
    "# # print(res.params)\n",
    "# plt.show()\n",
    "\n",
    "# from statsmodels.graphics.regressionplots import abline_plot\n",
    "\n",
    "# ax = dff.plot(x='rpm * resistance', y='watts', kind='scatter')\n",
    "# abline_plot(res.params['Intercept'],res.params['rpm:resistance'], ax=ax)\n",
    "# plt.show()\n"
   ]
  }
 ],
 "metadata": {
  "kernelspec": {
   "argv": [
    "python",
    "-m",
    "ipykernel_launcher",
    "-f",
    "{connection_file}"
   ],
   "display_name": "Python 3",
   "env": null,
   "interrupt_mode": "signal",
   "language": "python",
   "metadata": null,
   "name": "python3"
  },
  "name": "Untitled.ipynb"
 },
 "nbformat": 4,
 "nbformat_minor": 2
}
