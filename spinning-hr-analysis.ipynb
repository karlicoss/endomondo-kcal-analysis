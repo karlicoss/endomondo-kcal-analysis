{
 "cells": [
  {
   "cell_type": "markdown",
   "metadata": {
    "ein.tags": "worksheet-0",
    "slideshow": {
     "slide_type": "-"
    }
   },
   "source": [
    "I was curious how effort exerted during the exercise impacts heart rate and whether that correlates strongly with subjective fatigue and exhaustion.\n",
    "\n",
    "It seemed that easiest way to experiment would be spinning machine. Running only has single variable, speed. One could f change incline, but that would be harder to predict.\n",
    "\n",
    "For elliptical machine or rowing machine it would be even more complicated!\n",
    "\n",
    "With stationary bike, there are two variables that potentially impact power you need to exert:\n",
    "\n",
    "- revolutions per minute, or angular velocity, that has linear effect on power (no air resistance as it's stationary!)\n",
    "- resistance, which isn't exactly specified, but one would expect it to be proportional to the force you have to apply (i.e. [torque](https://en.wikipedia.org/wiki/Torque))\n",
    "\n",
    "The [spinning machine](https://www.technogym.com/gb/indoor-cycling-live-bike.html) I was using displays the pace (i.e. revolutions per minute), so all you have to do is maintain it. In addition it's displaying current resistance level and reports power in watts.\n",
    "\n",
    "During exercise, I'm using a chest HR tracker, so simplest thing to do would be take whatever power spinning machine reports and try to find correlation with moving total/average of HR.\n",
    "\n",
    "However, being paranoid and lacking any documentation for the machine, I decided no to trust its numbers blindly and check them instead. Technogym's website doesn't help in clarifying how power is computed. They have some sensible information [like](https://www.technogym.com/gb/newsroom/power-meter-what-is-how-it-works):\n",
    "\n",
    "> The power meter must be accurate.\n",
    "\n",
    "> The power measurement must be precise and repeatable. A 3-5 watt error is not significant, but if a system is not reliable there may be deviations of many tens of watts, i.e. equal to or greater than the amount of power that is gained from one year's training.\n",
    "\n",
    "Let's see how accurate is their power meter!"
   ]
  },
  {
   "cell_type": "markdown",
   "metadata": {
    "ein.tags": "worksheet-0",
    "slideshow": {
     "slide_type": "-"
    }
   },
   "source": [
    "## Initial measurements (2019-11-09)\n",
    "\n",
    "Throughout different exercise sessions, I've taken bunch of measurements of RPM, resistance and power:"
   ]
  },
  {
   "cell_type": "code",
   "execution_count": null,
   "metadata": {
    "autoscroll": false,
    "collapsed-summary": "Measurements",
    "ein.hycell": false,
    "ein.tags": "worksheet-0",
    "slideshow": {
     "slide_type": "-"
    },
    "tags": [
     "collapsed"
    ]
   },
   "outputs": [],
   "source": [
    "# TODO could only collapse inputs?\n",
    "# # NOEXPORT even assuming it's 8.5, not 8 or 9.5 not 10 doesn't' help at all\n",
    "# NOEXPORT TODO try again with 9.5? \n",
    "datas = \"\"\"\n",
    "58 10 129\n",
    "56 10 127\n",
    "56 10 127\n",
    "56 8  94\n",
    "57 8  98\n",
    "56 8  94\n",
    "58 10 133\n",
    "56 10 126\n",
    "56 8  93\n",
    "55 8  91\n",
    "56 8  94\n",
    "56 10 128\n",
    "55 10 124\n",
    "54 10 119\n",
    "53 8  87\n",
    "55 8  93\n",
    "55 8  90\n",
    "95 8  240\n",
    "\n",
    "70 10 198\n",
    "55 8  85\n",
    "95 8  226\n",
    "95 8  229\n",
    "95 8  228\n",
    "95 8  227\n",
    "\n",
    "97 8  236\n",
    "95 8  227\n",
    "95 8  227\n",
    "95 8  230\n",
    "60 10 156\n",
    "61 10 154\n",
    "62 10 162\n",
    "61 10 156\n",
    "55 10 125\n",
    "56 10 128\n",
    "57 8  89\n",
    "56 8  87\n",
    "57 8  90\n",
    "57 8  91\n",
    "60 8  101\n",
    "56 10 129\n",
    "57 10 131\n",
    "\"\"\"\n",
    "\n",
    "import pandas as pd\n",
    "def make_df(datas: str) -> pd.DataFrame:\n",
    "    df = pd.DataFrame(\n",
    "        (map(int, l.split()) for l in datas.splitlines() if len(l.strip()) > 0),\n",
    "        columns=['rpm', 'resistance', 'watts'],\n",
    "    )\n",
    "    df.index = df.apply(lambda row: f\"{row['rpm']}_{row['resistance']}_{row['watts']}\", axis='columns')\n",
    "    return df\n",
    "\n",
    "df = make_df(datas)\n",
    "old_df = df.copy()\n",
    "# btw, if anyone knows a more elegant way of converting such a table in dataframe, I'd be happy to know!"
   ]
  },
  {
   "cell_type": "code",
   "execution_count": null,
   "metadata": {
    "autoscroll": false,
    "ein.hycell": false,
    "ein.tags": "worksheet-0",
    "slideshow": {
     "slide_type": "-"
    }
   },
   "outputs": [],
   "source": [
    "display(df.sample(10, random_state=0))"
   ]
  },
  {
   "cell_type": "markdown",
   "metadata": {
    "ein.tags": "worksheet-0",
    "slideshow": {
     "slide_type": "-"
    }
   },
   "source": [
    "It's reasonable to assume that power depends linearly both on RPM and resistance, so we conjecture `watts = rpm x resistance`. Let's see if it holds against what the spinning machine reports:"
   ]
  },
  {
   "cell_type": "code",
   "execution_count": null,
   "metadata": {
    "autoscroll": false,
    "ein.hycell": false,
    "ein.tags": "worksheet-0",
    "slideshow": {
     "slide_type": "-"
    }
   },
   "outputs": [],
   "source": [
    "%matplotlib inline\n",
    "from matplotlib import pyplot as plt\n",
    "import seaborn as sns\n",
    "import matplotlib\n",
    "matplotlib.rc('font', size=17, weight='regular')\n",
    "\n",
    "def plot_df(df):\n",
    "    dff = df.copy()\n",
    "    dff['rpm x resistance'] = df['rpm'] * df['resistance']\n",
    "\n",
    "    fig, ax = plt.subplots(figsize=(10, 10))\n",
    "    plt.xlim((0, max(dff['rpm x resistance']) * 1.1))\n",
    "    plt.ylim((0, max(dff['watts']) * 1.1))\n",
    "    plt.grid(True)\n",
    "\n",
    "# NOEXPORT ax = dff.plot(x='rpm x resistance', y='watts', kind='scatter')\n",
    "# NOEXPORT height=15,\n",
    "# NOEXPORT legend_out=False,\n",
    "# NOEXPORT palette='colorblind',\n",
    "    g = sns.regplot(\n",
    "        data=dff,\n",
    "        x='rpm x resistance', y='watts',\n",
    "        ax=ax,\n",
    "    )\n",
    "\n",
    "    plt.xlabel('Power, theoretical, angular velocity multiplied by resistance')\n",
    "    plt.ylabel('Power, watts as reported by the machine')\n",
    "\n",
    "    plt.show()\n",
    "\n",
    "plot_df(df)"
   ]
  },
  {
   "cell_type": "code",
   "execution_count": null,
   "metadata": {
    "autoscroll": false,
    "ein.hycell": false,
    "ein.tags": "worksheet-0",
    "slideshow": {
     "slide_type": "-"
    }
   },
   "outputs": [],
   "source": [
    "import statsmodels.api as sm\n",
    "# TODO NOEXPORT ugh. doens't really work for simple regression plot?\n",
    "# NOEXPORT res = sm.formula.ols(\"watts ~ 'rpm x resistance'\", data=dff).fit()\n",
    "def print_stats(df):\n",
    "    dff = df.copy()\n",
    "    dff['rpm x resistance'] = df['rpm'] * df['resistance']\n",
    "    X = dff[['rpm x resistance']]\n",
    "    X = sm.add_constant(X)\n",
    "# TODO NOEXPORT ugh, need to add constant explicitly?\n",
    "    res = sm.OLS(dff['watts'], X).fit()\n",
    "    # TODO ugh. remove Date/Time from summary...\n",
    "    # https://www.statsmodels.org/stable/_modules/statsmodels/iolib/summary.html#Summary\n",
    "    print(res.summary())\n",
    "print_stats(df)"
   ]
  },
  {
   "cell_type": "markdown",
   "metadata": {
    "ein.tags": "worksheet-0",
    "slideshow": {
     "slide_type": "-"
    }
   },
   "source": [
    "Wow, that doesn't look so well. \n",
    "\n",
    "Free parameter is about `-100` watts, which is quite a lot considering my high intensity intervals are `250` watts. \n",
    "I don't think it can be explained by friction either: if anything, friction would shift the plot up and make the free coefficient positive.\n",
    "\n",
    "At this point, I'm not sure what it means. I guess I'll try to make more measurements at really low resistances and speeds to make the model more complete, but I would be too surprised if either watts or resistance reported by the machine are just made up."
   ]
  },
  {
   "cell_type": "markdown",
   "metadata": {
    "ein.tags": "worksheet-0",
    "slideshow": {
     "slide_type": "-"
    }
   },
   "source": [
    "## More data (2019-11-14)\n",
    "I collected more data corresponding to different resistances/velocities. It's actually quite hard to consistently spin under low resistance setting, so I think I might need one more round of data collection to complete the picture!"
   ]
  },
  {
   "cell_type": "code",
   "execution_count": null,
   "metadata": {
    "autoscroll": false,
    "collapsed-summary": "More measurements",
    "ein.hycell": false,
    "ein.tags": "worksheet-0",
    "slideshow": {
     "slide_type": "-"
    },
    "tags": [
     "collapsed"
    ]
   },
   "outputs": [],
   "source": [
    "new_df = make_df(\"\"\"\n",
    "96  4  66\n",
    "99  4  69\n",
    "101 6  146\n",
    "103 6  149\n",
    "110 6  166\n",
    "111 6  170\n",
    "50  13 186\n",
    "36  13 107\n",
    "36  13 105\n",
    "31  10 41\n",
    "30  10 44\n",
    "28  10 39\n",
    "117 8  323\n",
    "116 8  320\n",
    "116 8  322\n",
    "48  6  40\n",
    "49  6  37\n",
    "60  2  24\n",
    "59  2  23\n",
    "86  2  40\n",
    "106 2  48\n",
    "62  5  44\n",
    "61  5  44\n",
    "81  5  70\n",
    "81  5  70\n",
    "93  5  90\n",
    "97  5  97\n",
    "35  12 87\n",
    "33  12 81\n",
    "25  12 51\n",
    "26  12 55\n",
    "27  1  50\n",
    "39  8  46\n",
    "39  8  44\n",
    "30  8  29\n",
    "30  8  31\n",
    "32  8  31\n",
    "32  8  31\n",
    "29  8  29\n",
    "\"\"\")"
   ]
  },
  {
   "cell_type": "code",
   "execution_count": null,
   "metadata": {
    "autoscroll": false,
    "ein.hycell": false,
    "ein.tags": "worksheet-0",
    "slideshow": {
     "slide_type": "-"
    }
   },
   "outputs": [],
   "source": [
    "df = pd.concat([old_df, new_df])\n",
    "plot_df(df)\n",
    "print_stats(df)"
   ]
  },
  {
   "cell_type": "markdown",
   "metadata": {
    "ein.tags": "worksheet-0",
    "slideshow": {
     "slide_type": "-"
    }
   },
   "source": [
    "Ok, it clearly started diverging from the nice linear dependency, especially at lower values of theoretical power. It's time to try to break it down and see what is to blame: e.g., resistance or speed component, or perhaps some individual measurements."
   ]
  },
  {
   "cell_type": "markdown",
   "metadata": {
    "ein.tags": "worksheet-0",
    "slideshow": {
     "slide_type": "-"
    }
   },
   "source": [
    "## Analysing data and looking at outliers (2019-11-24)"
   ]
  },
  {
   "cell_type": "code",
   "execution_count": null,
   "metadata": {
    "autoscroll": false,
    "ein.hycell": false,
    "ein.tags": "worksheet-0",
    "slideshow": {
     "slide_type": "-"
    }
   },
   "outputs": [],
   "source": [
    "import statsmodels.api as sm\n",
    "def plot_influence(df):\n",
    "    # TODO FIXME use it in prev section\n",
    "    res = sm.formula.ols(\"watts ~ rpm * resistance - resistance - rpm\", data=df).fit()\n",
    "    fig, ax = plt.subplots(figsize=(10, 10))\n",
    "    sm.graphics.influence_plot(res, ax=ax, criterion=\"cooks\")\n",
    "    plt.show()\n",
    "plot_influence(df)\n",
    "# sm.graphics.plot_partregress_grid(res, fig=fig)\n"
   ]
  },
  {
   "cell_type": "markdown",
   "metadata": {
    "ein.tags": "worksheet-0",
    "slideshow": {
     "slide_type": "-"
    }
   },
   "source": [
    "TODO hmm, 0.10 is not _that_ high leverage right?\n",
    "Although depends on residual too, and here the residual is very high, so it would have high influence..\n",
    "https://www.statsmodels.org/dev/examples/notebooks/generated/regression_plots.html\n",
    "\n",
    "'27_1_50' seems like a typo that should have been '27 12 50', let's drop it and ignore. \n",
    "We also ignore few other points that seem to be outliers.\n",
    "\n"
   ]
  },
  {
   "cell_type": "code",
   "execution_count": null,
   "metadata": {
    "autoscroll": false,
    "ein.hycell": false,
    "ein.tags": "worksheet-0",
    "slideshow": {
     "slide_type": "-"
    }
   },
   "outputs": [],
   "source": [
    "fdf = df.copy() # TODO Do i really need to copy?\n",
    "fdf = fdf.drop([\n",
    "    '27_1_50',\n",
    "    '86_2_40',\n",
    "    '59_2_23',\n",
    "    '60_2_24',\n",
    "    '116_8_322',\n",
    "    '116_8_320',\n",
    "    '117_8_323',\n",
    "    '106_2_48',\n",
    "    '95_8_240',\n",
    "])\n",
    "# TODO I wonder what does it do to multiple observations with exactly same input/output params? Is it a set or multiset?\n",
    "plot_influence(fdf)"
   ]
  },
  {
   "cell_type": "markdown",
   "metadata": {
    "ein.tags": "worksheet-0",
    "slideshow": {
     "slide_type": "-"
    }
   },
   "source": [
    "Ok, that's somewhat better at least in terms of outliers. Let's see if that helps:"
   ]
  },
  {
   "cell_type": "code",
   "execution_count": null,
   "metadata": {
    "autoscroll": false,
    "ein.hycell": false,
    "ein.tags": "worksheet-0",
    "slideshow": {
     "slide_type": "-"
    }
   },
   "outputs": [],
   "source": [
    "plot_df(fdf)\n",
    "print_stats(fdf)"
   ]
  },
  {
   "cell_type": "markdown",
   "metadata": {
    "ein.tags": "worksheet-0",
    "slideshow": {
     "slide_type": "-"
    }
   },
   "source": [
    "So, on one hand that did make fit look more linear. On the other hand we've had to filter out all the low-resistance observations to achieve that.\n",
    "\n",
    "I guess I'll collect more observations to be absolutely sure.\n",
    "\n",
    "TODO add TOC or something?"
   ]
  }
 ],
 "metadata": {
  "celltoolbar": "Tags",
  "kernelspec": {
   "display_name": "Python 3",
   "language": "python",
   "name": "python3"
  },
  "language_info": {
   "codemirror_mode": {
    "name": "ipython",
    "version": 3
   },
   "file_extension": ".py",
   "mimetype": "text/x-python",
   "name": "python",
   "nbconvert_exporter": "python",
   "pygments_lexer": "ipython3",
   "version": "3.7.3"
  },
  "name": "spinning-hr-analysis.ipynb"
 },
 "nbformat": 4,
 "nbformat_minor": 2
}
