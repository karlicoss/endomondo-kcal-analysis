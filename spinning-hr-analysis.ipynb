{
 "cells": [
  {
   "cell_type": "code",
   "execution_count": null,
   "metadata": {
    "autoscroll": false,
    "ein.hycell": false,
    "ein.tags": "worksheet-0",
    "slideshow": {
     "slide_type": "-"
    }
   },
   "outputs": [],
   "source": [
    "# NOEXPORT TODO not sure if I should use 9.5 instead of 10?\n",
    "datas = \"\"\"\n",
    "58 10 129\n",
    "56 10 127\n",
    "56 10 127\n",
    "56 8  94\n",
    "57 8  98\n",
    "56 8  94\n",
    "58 10 133\n",
    "56 10 126\n",
    "56 8  93\n",
    "55 8  91\n",
    "56 8  94\n",
    "56 10 128\n",
    "55 10 124\n",
    "54 10 119\n",
    "53 8  87\n",
    "55 8  93\n",
    "55 8  90\n",
    "95 8  240\n",
    "\n",
    "70 10 198\n",
    "55 8  85\n",
    "95 8  226\n",
    "95 8  229\n",
    "95 8  228\n",
    "95 8  227\n",
    "\n",
    "97 8  236\n",
    "95 8  227\n",
    "95 8  227\n",
    "95 8  230\n",
    "60 10 156\n",
    "61 10 154\n",
    "62 10 162\n",
    "61 10 156\n",
    "55 10 125\n",
    "56 10 128\n",
    "57 8  89\n",
    "56 8  87\n",
    "57 8  90\n",
    "57 8  91\n",
    "60 8  101\n",
    "56 10 129\n",
    "57 10 131\n",
    "\"\"\"\n",
    "\n",
    "import pandas as pd\n",
    "df = pd.DataFrame(\n",
    "    (map(int, l.split()) for l in datas.splitlines() if len(l.strip()) > 0),\n",
    "    columns=['rpm', 'resistance', 'watts'],\n",
    ")\n",
    "# btw, if anyone knows a more elegant way of conveting such a table in dataframe, I'd be happy to know!\n",
    "display(df.sample(10, random_state=0))\n"
   ]
  },
  {
   "cell_type": "code",
   "execution_count": null,
   "metadata": {
    "autoscroll": false,
    "ein.hycell": false,
    "ein.tags": "worksheet-0",
    "slideshow": {
     "slide_type": "-"
    }
   },
   "outputs": [],
   "source": [
    "%matplotlib inline\n",
    "from matplotlib import pyplot as plt\n",
    "import seaborn as sns\n",
    "import matplotlib\n",
    "matplotlib.rc('font', size=17, weight='regular')\n",
    "\n",
    "dff = df.copy()\n",
    "dff['rpm x resistance'] = df['rpm'] * df['resistance']\n",
    "\n",
    "fig, ax = plt.subplots(figsize=(10, 10))\n",
    "plt.xlim((0, max(dff['rpm x resistance']) * 1.1))\n",
    "plt.ylim((0, max(dff['watts']) * 1.1))\n",
    "plt.grid(True)\n",
    "\n",
    "# NOEXPORT ax = dff.plot(x='rpm x resistance', y='watts', kind='scatter')\n",
    "# NOEXPORT height=15,\n",
    "# NOEXPORT legend_out=False,\n",
    "# NOEXPORT palette='colorblind',\n",
    "g = sns.regplot(\n",
    "    data=dff,\n",
    "    x='rpm x resistance', y='watts',\n",
    "    ax=ax,\n",
    ")\n",
    "\n",
    "plt.xlabel('Power, angular velocity multiplied by resistance')\n",
    "plt.ylabel('Power, watts as reported by machine')\n",
    "\n",
    "plt.show()\n",
    "\n",
    "\n"
   ]
  },
  {
   "cell_type": "code",
   "execution_count": null,
   "metadata": {
    "autoscroll": false,
    "ein.hycell": false,
    "ein.tags": "worksheet-0",
    "slideshow": {
     "slide_type": "-"
    }
   },
   "outputs": [],
   "source": [
    "import statsmodels.api as sm\n",
    "# TODO NOEXPORT ugh. doens't really work for simple regression plot?\n",
    "# NOEXPORT res = sm.formula.ols(\"watts ~ 'rpm x resistance'\", data=dff).fit()\n",
    "X = dff[['rpm x resistance']]\n",
    "X = sm.add_constant(X)\n",
    "# TODO NOEXPORT ugh, need to add constant explicitly?\n",
    "res = sm.OLS(dff['watts'], X).fit()\n",
    "print(res.summary())"
   ]
  }
 ],
 "metadata": {
  "kernelspec": {
   "argv": [
    "python",
    "-m",
    "ipykernel_launcher",
    "-f",
    "{connection_file}"
   ],
   "display_name": "Python 3",
   "env": null,
   "interrupt_mode": "signal",
   "language": "python",
   "metadata": null,
   "name": "python3"
  },
  "name": "spinning-hr-analysis.ipynb"
 },
 "nbformat": 4,
 "nbformat_minor": 2
}
