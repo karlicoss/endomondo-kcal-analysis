{
 "cells": [
  {
   "cell_type": "code",
   "execution_count": null,
   "metadata": {},
   "outputs": [],
   "source": [
    "%matplotlib inline"
   ]
  },
  {
   "cell_type": "code",
   "execution_count": null,
   "metadata": {},
   "outputs": [],
   "source": [
    "from plot import endomondo_dataframe"
   ]
  },
  {
   "cell_type": "code",
   "execution_count": null,
   "metadata": {},
   "outputs": [],
   "source": [
    "from pandas import concat\n",
    "df = endomondo_dataframe()\n",
    "\n",
    "# grp_mean = df.groupby(['sport']).size().mean(level='case')\n",
    " #.filter(lambda x: len(x) >= grp_mean[x.name[0]]\n",
    "df = df.groupby(['sport']).filter(lambda grp: len(grp) > 10)\n",
    "                \n",
    "\n",
    "filtered = [\n",
    "    df[df['error'].notnull()], # errors\n",
    "    # df[df['kcal'] > 1000], # outliers\n",
    "]\n",
    "\n",
    "def idx_union(idxs):\n",
    "    idx = idxs[0]\n",
    "    for i in idxs[1:]:\n",
    "        idx = idx.union(i)\n",
    "    return idx\n",
    "\n",
    "df = df.drop(idx_union([f.index for f in filtered]))\n",
    "  "
   ]
  },
  {
   "cell_type": "code",
   "execution_count": null,
   "metadata": {},
   "outputs": [],
   "source": [
    "import matplotlib\n",
    "from matplotlib import pyplot as plt\n",
    "import seaborn as sns\n",
    "\n",
    "matplotlib.rc('font', size=17, weight='regular')\n",
    "\n",
    "sports = {g: len(f) for g, f in df.groupby(['sport'])}\n",
    "\n",
    "g = sns.lmplot(\n",
    "    data=df,\n",
    "    x='kcal',\n",
    "    y='end_volume', # TODO rename to 'heartbeats'\n",
    "    hue='sport', \n",
    "    hue_order=sports.keys(),\n",
    "    legend_out=False,\n",
    "    height=15,\n",
    ")\n",
    "g.set(\n",
    "    title='Dependency between total heartbeats and Kcals (estimated by Endomondo)',\n",
    "    \n",
    "    xlim=(0, 1000), \n",
    "    xlabel='Kcal',\n",
    "    \n",
    "    ylim=(0, 15000),\n",
    "    ylabel='Heartbeats, total'\n",
    ")\n",
    "# https://stackoverflow.com/a/55108651/706389\n",
    "plt.legend(\n",
    "    title='Sport',\n",
    "    labels=[f'{s} ({cnt} points)' for s, cnt in groups.items()],\n",
    "    loc='upper left',\n",
    "   #  fontsize='xx-large',\n",
    ")\n",
    "# plt.legend(fontsize='xx-large')"
   ]
  },
  {
   "cell_type": "code",
   "execution_count": null,
   "metadata": {},
   "outputs": [],
   "source": [
    "import plotly.express as px # type: ignore\n",
    "f = px.scatter(df, x='kcal', y='end_volume', color='sport')\n",
    "f"
   ]
  },
  {
   "cell_type": "code",
   "execution_count": null,
   "metadata": {},
   "outputs": [],
   "source": []
  }
 ],
 "metadata": {
  "kernelspec": {
   "display_name": "Python 3",
   "language": "python",
   "name": "python3"
  },
  "language_info": {
   "codemirror_mode": {
    "name": "ipython",
    "version": 3
   },
   "file_extension": ".py",
   "mimetype": "text/x-python",
   "name": "python",
   "nbconvert_exporter": "python",
   "pygments_lexer": "ipython3",
   "version": "3.7.3"
  }
 },
 "nbformat": 4,
 "nbformat_minor": 2
}
