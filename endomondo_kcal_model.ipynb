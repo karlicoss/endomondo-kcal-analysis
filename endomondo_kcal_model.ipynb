{
 "cells": [
  {
   "cell_type": "markdown",
   "metadata": {},
   "source": [
    "The other day I got curious how Endomondo estimates energy expenditure during the exercise.\n",
    "\n",
    "On [their website](https://support.endomondo.com/hc/en-us/articles/201861383-Calories), they mention some paywalled paper, but no specifics, so I figured it'd be interesting to reverse engineer that myself. My conjecture is that the energy spending should be related to the number of heartbeats during the exercise (since essentialy it's the only objective metric Endomondo gets from me). Let's check how it turns out!\n",
    "\n",
    "I'm using [Wahoo TickrX chest strap monitor](https://uk.wahoofitness.com/devices/heart-rate-monitors/wahoo-tickr-x-heart-rate-strap), so the HR data coming from it is pretty decent. "
   ]
  },
  {
   "cell_type": "markdown",
   "metadata": {},
   "source": [
    "First, I'm importing the dataframe from the python package I'm using as the API to interact with my data. I write about it [here](https://beepb00p.xyz/hpi.html).\n",
    "\n",
    "All data is provided by this package, but otherwise it's just a Pandas dataframe:"
   ]
  },
  {
   "cell_type": "code",
   "execution_count": null,
   "metadata": {},
   "outputs": [],
   "source": [
    "import my.endomondo\n",
    "df = my.endomondo.dataframe()"
   ]
  },
  {
   "cell_type": "markdown",
   "metadata": {},
   "source": [
    "Some sample data:"
   ]
  },
  {
   "cell_type": "code",
   "execution_count": null,
   "metadata": {},
   "outputs": [],
   "source": [
    "display(df[df['start_time'].apply(lambda dt: str(dt.date())).isin(['2015-03-06', '2018-05-28', '2020-05-21'])])"
   ]
  },
  {
   "cell_type": "markdown",
   "metadata": {},
   "source": [
    "Sport type is entered manually when you log the exercise in Endomondo.\n",
    "\n",
    "- Note that I only have HR data for the last few years or so (`NaN` in `heart_rate_avg`). For the purposes of this experiment, they need to be filtered out\n",
    "- In addition there is 'Other' type, which doesn't correspond to any sport, it was just me using Endomondo for other HR logging sessions, so it needs to be filtered out\n",
    "- And finally, we need to filter out entries with errors coming from the data provider (the ones that have `error` value set)"
   ]
  },
  {
   "cell_type": "code",
   "execution_count": null,
   "metadata": {},
   "outputs": [],
   "source": [
    "without_hr = df['heart_rate_avg'].isna()\n",
    "type_other = df['sport'] == 'Other'\n",
    "without_error = df['error'].notna()\n",
    "df = df[~(without_hr | type_other | without_error)]"
   ]
  },
  {
   "cell_type": "markdown",
   "metadata": {},
   "source": [
    "Let's also filter out rare sports that I only did a few times, since they would end up as outliers:"
   ]
  },
  {
   "cell_type": "code",
   "execution_count": null,
   "metadata": {},
   "outputs": [],
   "source": [
    "df = df.groupby(['sport']).filter(lambda grp: len(grp) >= 10) "
   ]
  },
  {
   "cell_type": "markdown",
   "metadata": {},
   "source": [
    "To estimate the number of heartbeats, we can multiply average HR by the duration of the exercise in minutes:"
   ]
  },
  {
   "cell_type": "code",
   "execution_count": null,
   "metadata": {},
   "outputs": [],
   "source": [
    "df['heartbeats'] = df['heart_rate_avg'] * df['duration'].dt.total_seconds() / 60"
   ]
  },
  {
   "cell_type": "code",
   "execution_count": null,
   "metadata": {
    "collapsed-summary": "hack to make seaborn plots deterministic",
    "tags": [
     "collapsed"
    ]
   },
   "outputs": [],
   "source": [
    "import seaborn as sns\n",
    "if sns.algorithms.bootstrap.__module__ == 'seaborn.algorithms':\n",
    "    # prevents nondeterminism in plots https://github.com/mwaskom/seaborn/issues/1924\n",
    "    # we only want to do it once\n",
    "    def bootstrap_hacked(*args, bootstrap_orig = sns.algorithms.bootstrap, **kwargs):\n",
    "        kwargs['seed'] = 0\n",
    "        return bootstrap_orig(*args, **kwargs)\n",
    "    \n",
    "    sns.algorithms.bootstrap = bootstrap_hacked"
   ]
  },
  {
   "cell_type": "code",
   "execution_count": null,
   "metadata": {
    "autoscroll": false,
    "ein.hycell": false,
    "ein.tags": "worksheet-0",
    "slideshow": {
     "slide_type": "-"
    }
   },
   "outputs": [],
   "source": [
    "%matplotlib inline\n",
    "import matplotlib\n",
    "import matplotlib.pyplot as plt\n",
    "plt.style.use('seaborn')\n",
    "import seaborn as sns\n",
    "sns.set(font_scale=1.5)\n",
    "# NOEXPORT ugh, too much fiddling with params.\n",
    "\n",
    "sports = {\n",
    "    g: len(f) for g, f in df.groupby(['sport'])\n",
    "}\n",
    "\n",
    "g = sns.lmplot(\n",
    "    data=df,\n",
    "    x='heartbeats',\n",
    "    y='kcal',\n",
    "    hue='sport', \n",
    "    hue_order=sports.keys(),\n",
    "    legend_out=False,\n",
    "    height=15,\n",
    "    palette='colorblind',\n",
    "    truncate=False, # kind of sets same span for the reglines\n",
    ")\n",
    "ax = g.ax\n",
    "ax.set_title('Dependency of energy spent during exercise on number of heartbeats')\n",
    "\n",
    "ax.set_xlim((0, None))\n",
    "ax.set_xlabel('Total heartbeats, measured by chest strap HR monitor')\n",
    "\n",
    "ax.set_ylim((0, None))\n",
    "ax.set_ylabel('Kcal,\\nEndomondo\\nestimate', rotation=0, y=1.0)\n",
    "\n",
    "# https://stackoverflow.com/a/55108651/706389\n",
    "plt.legend(\n",
    "    title='Sport',\n",
    "    labels=[f'{s} ({cnt} points)' for s, cnt in sports.items()],\n",
    "    loc='upper left',\n",
    ")\n",
    "pass"
   ]
  },
  {
   "cell_type": "markdown",
   "metadata": {},
   "source": [
    "Unsurprisingly, it looks like a simple linear model (considering my weight and age have barely changed).\n",
    "\n",
    "What I find unexpected is that the slope/regression coefficient (i.e. calories burnt per heartbeat) is more or less the same. Personally, for me running feels way more intense than any of other cardio I'm doing, definitely way harder than skiing! There are two possibilities here:\n",
    "\n",
    "- Endomondo can't capture dynamic muscle activity and isn't even trying to use exercise type provided by the user for a better estimate.\n",
    "\n",
    "- Energy is mostly burnt by the heart and other muscles don't actually matter or have a very minor impact.\n",
    "    \n",
    "Let's try and check the latter via some back of an envelope calculation.\n",
    "\n",
    "In order to run, you use your chemical energy to move your body up and forward. For simplicity, let's only consider 'up' movements that go against gravity, it feels like these would dominate energy spendings. So let's model running as a sequence of vertical jumps. My estimate would be that when you run you jumps are about 5 cm in height.\n",
    "\n",
    "We can find out how much energy each jump takes by using $\\Delta U = m g \\Delta h$ [formula](https://en.wikipedia.org/wiki/Potential_energy#Gravitational_potential_energy).\n"
   ]
  },
  {
   "cell_type": "code",
   "execution_count": null,
   "metadata": {},
   "outputs": [],
   "source": [
    "g = 9.82 # standard Earth gravity\n",
    "weight = 65 # kg\n",
    "stride_height = 5 / 100 # convert cm to m\n",
    "\n",
    "strides_per_minute = 160 # ish, varies for different people\n",
    "duration = 60 # minutes\n",
    "joules_in_kcal = 4184 \n",
    "\n",
    "energy_per_stride = weight * g * stride_height\n",
    "\n",
    "leg_energy_kcal = energy_per_stride *  strides_per_minute * duration / joules_in_kcal\n",
    "print(leg_energy_kcal)"
   ]
  },
  {
   "cell_type": "markdown",
   "metadata": {},
   "source": [
    "So, 70 kcal is fairly low in comparison with typical numbers Endomondo reports for my exercise. \n",
    "\n",
    "This is a very rough calculation of course:\n",
    "\n",
    "- In reality movements during running are more complex, so it could be an underestimate\n",
    "- On the other hand, feet can also spring, so not all energy spent on the stride is lost completely, so it could be an overestimate\n",
    "\n",
    "\n",
    "With regards to the actual value of the regression coefficient: seaborn [wouldn't let you](https://github.com/mwaskom/seaborn/issues/655#issuecomment-370079702) display them on the regplot, so we use `sklearn` to do that for us:"
   ]
  },
  {
   "cell_type": "code",
   "execution_count": null,
   "metadata": {},
   "outputs": [],
   "source": [
    "from sklearn import linear_model\n",
    "\n",
    "reg = linear_model.LinearRegression()\n",
    "reg.fit(df[['heartbeats']], df['kcal'])\n",
    "\n",
    "[coef] = reg.coef_\n",
    "intc = reg.intercept_\n",
    "\n",
    "print(f\"Regression coefficient: {coef:.3f}\")\n",
    "print(f\"Intercept: {intc:.3f}\")"
   ]
  },
  {
   "cell_type": "markdown",
   "metadata": {},
   "source": [
    "Basically, that means I get about `0.1` Kcal for each heartbeat during exercise. The intercept should ideally be equal to `0` (i.e. just as a sanity sort of thing: not having heartbeat shouldn't result in calorie loss), but what we have is close enough.\n",
    "\n",
    "Also, fun calculation: what if we fit the model we got to normal, resting heart rate?"
   ]
  },
  {
   "cell_type": "code",
   "execution_count": null,
   "metadata": {},
   "outputs": [],
   "source": [
    "normal_bpm = 60\n",
    "minutes_in_day = 24 * 60\n",
    "\n",
    "print(f'{coef * normal_bpm * minutes_in_day:.3f}')"
   ]
  },
  {
   "cell_type": "markdown",
   "metadata": {},
   "source": [
    "8K Kcals per day? A bit too much for an average person. I wouldn't draw any conclusions from that one though :)"
   ]
  },
  {
   "cell_type": "markdown",
   "metadata": {},
   "source": [
    "You can find the source of this notebook [here](https://github.com/karlicoss/quantifiedself-notebooks/blob/master/endomondo_kcal_model.ipynb)."
   ]
  },
  {
   "cell_type": "code",
   "execution_count": null,
   "metadata": {
    "noexport": true,
    "tags": [
     "noexport"
    ]
   },
   "outputs": [],
   "source": [
    "# import plotly.express as px # type: ignore\n",
    "# f = px.scatter(df, x='kcal', y='heartbeats', color='sport')\n",
    "# display(f)"
   ]
  }
 ],
 "metadata": {
  "celltoolbar": "Tags",
  "kernelspec": {
   "display_name": "Python 3",
   "language": "python",
   "name": "python3"
  },
  "language_info": {
   "codemirror_mode": {
    "name": "ipython",
    "version": 3
   },
   "file_extension": ".py",
   "mimetype": "text/x-python",
   "name": "python",
   "nbconvert_exporter": "python",
   "pygments_lexer": "ipython3",
   "version": "3.8.5"
  }
 },
 "nbformat": 4,
 "nbformat_minor": 2
}
