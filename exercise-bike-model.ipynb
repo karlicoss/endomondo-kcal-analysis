{
 "cells": [
  {
   "cell_type": "markdown",
   "metadata": {
    "ein.tags": "worksheet-0",
    "slideshow": {
     "slide_type": "-"
    }
   },
   "source": [
    "I was curious how effort exerted during the exercise impacts heart rate and whether that correlates strongly with subjective fatigue and exhaustion.\n",
    "\n",
    "It seemed that easiest way to experiment would be stationary bike. Running only has single variable, speed. One could of course change incline, but that would be harder to predict.\n",
    "\n",
    "For elliptical machine or rowing machine it would be even more complicated!\n",
    "\n",
    "With stationary bike, there are two variables that potentially impact power you need to exert:\n",
    "\n",
    "- RPM (revolutions per minute), or angular velocity, that should have linear effect on power (no air resistance as it's stationary!)\n",
    "- resistance, which isn't exactly specified, but one would expect it to be proportional to the force you have to apply (i.e. [torque](https://en.wikipedia.org/wiki/Torque))\n",
    "\n",
    "Or, simply put, $P = \\tau \\omega$ ([wiki](https://en.wikipedia.org/wiki/Power_%28physics%29#Mechanical_power) )\n",
    "\n",
    "The [indoor exercise bike](https://www.technogym.com/gb/indoor-cycling-live-bike.html) displays the pace (i.e. revolutions per minute), so all you have to do is maintain it.\n",
    "In addition it's displaying current resistance level (you can set it by adjusting a mechanical knob) and reports power in watts.\n",
    "\n",
    "During exercise, I'm using a chest HR tracker, so simplest thing to do would be take whatever power the machine reports and try to find correlation with moving total/average of HR.\n",
    "\n",
    "However, being paranoid and lacking any documentation for the machine, I decided no to trust its numbers blindly and check them instead. Technogym's website doesn't help in clarifying how power is computed. They have some sensible information [like](https://www.technogym.com/gb/newsroom/power-meter-what-is-how-it-works):\n",
    "\n",
    "> The power meter must be accurate.\n",
    "\n",
    "> The power measurement must be precise and repeatable. A 3-5 watt error is not significant, but if a system is not reliable there may be deviations of many tens of watts, i.e. equal to or greater than the amount of power that is gained from one year's training.\n",
    "\n",
    "Let's see how accurate is their power meter!"
   ]
  },
  {
   "cell_type": "markdown",
   "metadata": {
    "ein.tags": "worksheet-0",
    "slideshow": {
     "slide_type": "-"
    }
   },
   "source": [
    "## Initial measurements (2019-11-09)\n",
    "\n",
    "Throughout different exercise sessions, I've taken bunch of measurements of RPM, resistance and power:"
   ]
  },
  {
   "cell_type": "code",
   "execution_count": null,
   "metadata": {
    "autoscroll": false,
    "collapsed-summary": "Measurements",
    "ein.hycell": false,
    "ein.tags": "worksheet-0",
    "slideshow": {
     "slide_type": "-"
    },
    "tags": [
     "collapsed"
    ]
   },
   "outputs": [],
   "source": [
    "# TODO could only collapse inputs?\n",
    "# # NOEXPORT even assuming it's 8.5, not 8 or 9.5 not 10 doesn't' help at all\n",
    "# NOEXPORT TODO try again with 9.5? \n",
    "datas = \"\"\"\n",
    "58 10 129\n",
    "56 10 127\n",
    "56 10 127\n",
    "56 8  94\n",
    "57 8  98\n",
    "56 8  94\n",
    "58 10 133\n",
    "56 10 126\n",
    "56 8  93\n",
    "55 8  91\n",
    "56 8  94\n",
    "56 10 128\n",
    "55 10 124\n",
    "54 10 119\n",
    "53 8  87\n",
    "55 8  93\n",
    "55 8  90\n",
    "95 8  240\n",
    "\n",
    "70 10 198\n",
    "55 8  85\n",
    "95 8  226\n",
    "95 8  229\n",
    "95 8  228\n",
    "95 8  227\n",
    "\n",
    "97 8  236\n",
    "95 8  227\n",
    "95 8  227\n",
    "95 8  230\n",
    "60 10 156\n",
    "61 10 154\n",
    "62 10 162\n",
    "61 10 156\n",
    "55 10 125\n",
    "56 10 128\n",
    "57 8  89\n",
    "56 8  87\n",
    "57 8  90\n",
    "57 8  91\n",
    "60 8  101\n",
    "56 10 129\n",
    "57 10 131\n",
    "\"\"\"\n",
    "\n",
    "import pandas as pd\n",
    "def make_df(datas: str) -> pd.DataFrame:\n",
    "    df = pd.DataFrame(\n",
    "        (map(int, l.split()) for l in datas.splitlines() if len(l.strip()) > 0),\n",
    "        columns=['rpm', 'resistance', 'watts'],\n",
    "    )\n",
    "    df.index = df.apply(lambda row: f\"{row['rpm']}_{row['resistance']}_{row['watts']}\", axis='columns')\n",
    "    return df\n",
    "\n",
    "df = make_df(datas)\n",
    "old_df = df.copy()\n",
    "# btw, if anyone knows a more elegant way of converting such a table in dataframe, I'd be happy to know!"
   ]
  },
  {
   "cell_type": "code",
   "execution_count": null,
   "metadata": {
    "autoscroll": false,
    "ein.hycell": false,
    "ein.tags": "worksheet-0",
    "slideshow": {
     "slide_type": "-"
    }
   },
   "outputs": [],
   "source": [
    "display(df.sample(10, random_state=0))"
   ]
  },
  {
   "cell_type": "markdown",
   "metadata": {
    "ein.tags": "worksheet-0",
    "slideshow": {
     "slide_type": "-"
    }
   },
   "source": [
    "It's reasonable to assume that power depends linearly both on RPM and resistance, so we conjecture `watts = rpm x resistance`. Let's see if it holds against what the exercise bike reports:"
   ]
  },
  {
   "cell_type": "code",
   "execution_count": null,
   "metadata": {
    "collapsed-summary": "hack to make seaborn plots deterministic",
    "tags": [
     "collapsed"
    ]
   },
   "outputs": [],
   "source": [
    "import seaborn as sns\n",
    "if sns.algorithms.bootstrap.__module__ == 'seaborn.algorithms':\n",
    "    # prevents nondeterminism in plots https://github.com/mwaskom/seaborn/issues/1924\n",
    "    # we only want to do it once\n",
    "    def bootstrap_hacked(*args, bootstrap_orig = sns.algorithms.bootstrap, **kwargs):\n",
    "        kwargs['seed'] = 0\n",
    "        return bootstrap_orig(*args, **kwargs)\n",
    "    \n",
    "    sns.algorithms.bootstrap = bootstrap_hacked\n",
    "    \n",
    "# apparently because of a dependency    \n",
    "# https://github.com/statsmodels/statsmodels/blob/fdd61859568c4863de9b084cb9f84512be55ab33/setup.cfg#L17\n",
    "import warnings\n",
    "warnings.filterwarnings('ignore', 'Method .ptp is deprecated and will be removed.*', FutureWarning, module='numpy.*')"
   ]
  },
  {
   "cell_type": "code",
   "execution_count": null,
   "metadata": {
    "autoscroll": false,
    "ein.hycell": false,
    "ein.tags": "worksheet-0",
    "slideshow": {
     "slide_type": "-"
    }
   },
   "outputs": [],
   "source": [
    "%matplotlib inline\n",
    "import matplotlib\n",
    "from matplotlib import pyplot as plt\n",
    "plt.style.use('seaborn')\n",
    "import seaborn as sns\n",
    "sns.set(font_scale=1.25) # TODO not sure?\n",
    "\n",
    "def plot_df(df):\n",
    "    dff = df.copy()\n",
    "    dff['rpm x resistance'] = df['rpm'] * df['resistance']\n",
    "    if 'color' not in dff:\n",
    "        dff['color'] = 'blue'\n",
    "\n",
    "    fig, ax = plt.subplots(figsize=(10, 10))\n",
    "    plt.xlim((0, max(dff['rpm x resistance']) * 1.1))\n",
    "    plt.ylim((0, max(dff['watts']) * 1.1))\n",
    "\n",
    "# NOEXPORT ax = dff.plot(x='rpm x resistance', y='watts', kind='scatter')\n",
    "# NOEXPORT height=15,\n",
    "# NOEXPORT legend_out=False,\n",
    "# NOEXPORT palette='colorblind',\n",
    "    g = sns.regplot(\n",
    "        data=dff,\n",
    "        x='rpm x resistance', y='watts',\n",
    "        ax=ax,\n",
    "        scatter_kws={'facecolors':dff['color']}\n",
    "    )\n",
    "\n",
    "    plt.xlabel('Power, theoretical, angular velocity multiplied by resistance')\n",
    "    plt.ylabel('Power, watts as reported by the machine')\n",
    "\n",
    "    plt.show()\n",
    "\n",
    "plot_df(df)"
   ]
  },
  {
   "cell_type": "markdown",
   "metadata": {
    "ein.tags": "worksheet-0",
    "slideshow": {
     "slide_type": "-"
    }
   },
   "source": [
    "Wow, that doesn't look so well, I'd expect the regression line to intersect (0, 0). Let's double check this:"
   ]
  },
  {
   "cell_type": "code",
   "execution_count": null,
   "metadata": {
    "autoscroll": false,
    "ein.hycell": false,
    "ein.tags": "worksheet-0",
    "slideshow": {
     "slide_type": "-"
    }
   },
   "outputs": [],
   "source": [
    "import statsmodels.api as sm\n",
    "# TODO NOEXPORT ugh. doesn't really work for simple regression plot?\n",
    "# NOEXPORT res = sm.formula.ols(\"watts ~ 'rpm x resistance'\", data=dff).fit()\n",
    "def print_stats(df):\n",
    "    dff = df.copy()\n",
    "    dff['rpm x resistance'] = df['rpm'] * df['resistance']\n",
    "    X = dff[['rpm x resistance']]\n",
    "    X = sm.add_constant(X)\n",
    "# TODO NOEXPORT ugh, need to add constant explicitly?\n",
    "    res = sm.OLS(dff['watts'], X).fit()\n",
    "    summary = str(res.summary())\n",
    "    # NOEXPORT ugh this v removes Date/Time from summary...\n",
    "    # NOEXPORT https://www.statsmodels.org/stable/_modules/statsmodels/iolib/summary.html#Summary\n",
    "    # NOEXPORT https://github.com/statsmodels/statsmodels/issues/1401\n",
    "    # NOEXPORT TODO ugh. not sure I like statsmodels code really...\n",
    "    import re # filter out nondeterministic stuff from the report\n",
    "    summary = re.sub('Date:.*\\d{4}.*\\n', '', str(summary))\n",
    "    summary = re.sub('Time:.*\\d{2}:\\d{2}:\\d{2}.*\\n', '', str(summary))\n",
    "    print(summary)\n",
    "print_stats(df)"
   ]
  },
  {
   "cell_type": "markdown",
   "metadata": {
    "ein.tags": "worksheet-0",
    "slideshow": {
     "slide_type": "-"
    }
   },
   "source": [
    "\n",
    "\n",
    "Free parameter is about `-100` watts, which is quite a lot considering my high intensity intervals are `250` watts (so it means **about 40% error**!). \n",
    "I don't think it can be explained by friction either: if anything, friction would shift the plot up and make the free coefficient positive.\n",
    "\n",
    "At this point, I'm not sure what it means. I guess I'll try to make more measurements at really low resistances and speeds to make the model more complete, but I would be too surprised if either watts or resistance reported by the machine are just made up."
   ]
  },
  {
   "cell_type": "markdown",
   "metadata": {
    "ein.tags": "worksheet-0",
    "slideshow": {
     "slide_type": "-"
    }
   },
   "source": [
    "## More data (2019-11-14)\n",
    "I collected more data corresponding to different resistances/velocities. It's actually quite hard to consistently spin under low resistance setting, so I think I might need one more round of data collection to complete the picture!"
   ]
  },
  {
   "cell_type": "code",
   "execution_count": null,
   "metadata": {
    "autoscroll": false,
    "collapsed-summary": "More measurements",
    "ein.hycell": false,
    "ein.tags": "worksheet-0",
    "slideshow": {
     "slide_type": "-"
    },
    "tags": [
     "collapsed"
    ]
   },
   "outputs": [],
   "source": [
    "new_df = make_df(\"\"\"\n",
    "96  4  66\n",
    "99  4  69\n",
    "101 6  146\n",
    "103 6  149\n",
    "110 6  166\n",
    "111 6  170\n",
    "50  13 186\n",
    "36  13 107\n",
    "36  13 105\n",
    "31  10 41\n",
    "30  10 44\n",
    "28  10 39\n",
    "117 8  323\n",
    "116 8  320\n",
    "116 8  322\n",
    "48  6  40\n",
    "49  6  37\n",
    "60  2  24\n",
    "59  2  23\n",
    "86  2  40\n",
    "106 2  48\n",
    "62  5  44\n",
    "61  5  44\n",
    "81  5  70\n",
    "81  5  70\n",
    "93  5  90\n",
    "97  5  97\n",
    "35  12 87\n",
    "33  12 81\n",
    "25  12 51\n",
    "26  12 55\n",
    "27  1  50\n",
    "39  8  46\n",
    "39  8  44\n",
    "30  8  29\n",
    "30  8  31\n",
    "32  8  31\n",
    "32  8  31\n",
    "29  8  29\n",
    "\"\"\")"
   ]
  },
  {
   "cell_type": "code",
   "execution_count": null,
   "metadata": {
    "autoscroll": false,
    "ein.hycell": false,
    "ein.tags": "worksheet-0",
    "slideshow": {
     "slide_type": "-"
    }
   },
   "outputs": [],
   "source": [
    "df = pd.concat([old_df, new_df])\n",
    "plot_df(df)\n",
    "print_stats(df)"
   ]
  },
  {
   "cell_type": "markdown",
   "metadata": {
    "ein.tags": "worksheet-0",
    "slideshow": {
     "slide_type": "-"
    }
   },
   "source": [
    "Ok, it clearly started diverging from the nice linear dependency, especially at lower values of theoretical power. It's time to try to break it down and see what is to blame: e.g., resistance or speed component, or perhaps some individual measurements."
   ]
  },
  {
   "cell_type": "markdown",
   "metadata": {
    "ein.tags": "worksheet-0",
    "slideshow": {
     "slide_type": "-"
    }
   },
   "source": [
    "## Analyzing data and looking at outliers (2019-11-24)"
   ]
  },
  {
   "cell_type": "code",
   "execution_count": null,
   "metadata": {
    "autoscroll": false,
    "ein.hycell": false,
    "ein.tags": "worksheet-0",
    "slideshow": {
     "slide_type": "-"
    }
   },
   "outputs": [],
   "source": [
    "import statsmodels.api as sm\n",
    "def plot_influence(df):\n",
    "    # TODO FIXME use it in prev section\n",
    "    res = sm.formula.ols(\"watts ~ rpm * resistance - resistance - rpm\", data=df).fit()\n",
    "    fig, ax = plt.subplots(figsize=(10, 10))\n",
    "    sm.graphics.influence_plot(res, ax=ax, criterion=\"cooks\")\n",
    "    plt.show()\n",
    "plot_influence(df)\n",
    "# sm.graphics.plot_partregress_grid(res, fig=fig)\n"
   ]
  },
  {
   "cell_type": "markdown",
   "metadata": {
    "ein.tags": "worksheet-0",
    "slideshow": {
     "slide_type": "-"
    }
   },
   "source": [
    "TODO hmm, 0.10 is not _that_ high leverage right?\n",
    "Although depends on residual too, and here the residual is very high, so it would have high influence..\n",
    "https://www.statsmodels.org/dev/examples/notebooks/generated/regression_plots.html\n",
    "\n",
    "'27_1_50' seems like a typo. Let's drop it and ignore."
   ]
  },
  {
   "cell_type": "code",
   "execution_count": null,
   "metadata": {
    "autoscroll": false,
    "ein.hycell": false,
    "ein.tags": "worksheet-0",
    "slideshow": {
     "slide_type": "-"
    }
   },
   "outputs": [],
   "source": [
    "fdf = df.drop([\n",
    "    '27_1_50',\n",
    "])"
   ]
  },
  {
   "cell_type": "markdown",
   "metadata": {
    "ein.tags": "worksheet-0",
    "slideshow": {
     "slide_type": "-"
    }
   },
   "source": [
    "Ok, that's somewhat better at least in terms of outliers. Let's see if that helps:"
   ]
  },
  {
   "cell_type": "code",
   "execution_count": null,
   "metadata": {
    "autoscroll": false,
    "ein.hycell": false,
    "ein.tags": "worksheet-0",
    "slideshow": {
     "slide_type": "-"
    }
   },
   "outputs": [],
   "source": [
    "plot_df(fdf)\n",
    "print_stats(fdf)"
   ]
  },
  {
   "cell_type": "markdown",
   "metadata": {
    "ein.tags": "worksheet-0",
    "slideshow": {
     "slide_type": "-"
    }
   },
   "source": [
    "So, on one hand that did make fit look more linear. On the other hand we've had to filter out all the low-resistance observations to achieve that.\n",
    "\n",
    "I guess I'll collect more observations to be absolutely sure.\n",
    "\n",
    "TODO add TOC or something?"
   ]
  },
  {
   "cell_type": "markdown",
   "metadata": {
    "ein.tags": "worksheet-0",
    "slideshow": {
     "slide_type": "-"
    }
   },
   "source": [
    "## Even more data (2019-11-25)\n",
    "I've collected a bit more data, especially at lower velocities and resistance:"
   ]
  },
  {
   "cell_type": "code",
   "execution_count": null,
   "metadata": {
    "autoscroll": false,
    "collapsed-summary": "More measurements",
    "ein.hycell": false,
    "ein.tags": "worksheet-0",
    "slideshow": {
     "slide_type": "-"
    },
    "tags": [
     "collapsed"
    ]
   },
   "outputs": [],
   "source": [
    "new_df_2 = make_df(\"\"\"\n",
    "113 2  50\n",
    "73  2  32\n",
    "71  2  30\n",
    "70  2  29\n",
    "107 3  64\n",
    "108 3  65\n",
    "114 4  103\n",
    "48  4  25\n",
    "40  4  20\n",
    "31  13 81\n",
    "36  16 163\n",
    "40  5  24\n",
    "35  6  23\n",
    "31  7  23\n",
    "31  9  40\n",
    "40  9  64\n",
    "115 6  175\n",
    "109 6  163\n",
    "31  12 72\n",
    "30  13 76\n",
    "54  4  33\n",
    "38  4  19\n",
    "75  4  55\n",
    "36  8  40\n",
    "39  8  46\n",
    "32  8  34\n",
    "70  3  39\n",
    "49  3  22\n",
    "37  3  14\n",
    "\"\"\")\n",
    "\n",
    "ndf = pd.concat([fdf, new_df_2])"
   ]
  },
  {
   "cell_type": "markdown",
   "metadata": {
    "ein.tags": "worksheet-0",
    "slideshow": {
     "slide_type": "-"
    }
   },
   "source": [
    "Let's check for outliers first:"
   ]
  },
  {
   "cell_type": "code",
   "execution_count": null,
   "metadata": {
    "autoscroll": false,
    "ein.hycell": false,
    "ein.tags": "worksheet-0",
    "slideshow": {
     "slide_type": "-"
    }
   },
   "outputs": [],
   "source": [
    "plot_influence(ndf)"
   ]
  },
  {
   "cell_type": "markdown",
   "metadata": {
    "ein.tags": "worksheet-0",
    "slideshow": {
     "slide_type": "-"
    }
   },
   "source": [
    "Residuals of 3 are borderline, but don't immediately mean outliers.\n",
    "\n",
    "Let's plot and analyze! Just out of curiosity, in addition we'll color values corresponding to different resistances (the darker, the more resistance):"
   ]
  },
  {
   "cell_type": "code",
   "execution_count": null,
   "metadata": {
    "autoscroll": false,
    "ein.hycell": false,
    "ein.tags": "worksheet-0",
    "slideshow": {
     "slide_type": "-"
    }
   },
   "outputs": [],
   "source": [
    "ress = list(sorted(set(ndf['resistance'])))\n",
    "colors = dict(zip(ress, sns.light_palette('navy', n_colors=len(ress))))\n",
    "ndf['color'] = [colors[x] for x in ndf['resistance']]\n",
    "# if you know of an easier way to use column value as a color in seaborn, please let me know!\n",
    "plot_df(ndf)\n",
    "print_stats(ndf)"
   ]
  },
  {
   "cell_type": "markdown",
   "metadata": {
    "ein.tags": "worksheet-0",
    "slideshow": {
     "slide_type": "-"
    }
   },
   "source": [
    "So, there is a clear trend of points clumping towards 0, which means that the model ceases to be linear. \n",
    "\n",
    "If we try to fit the line to the points in a more reasonable exercise range (e.g. at least 50 RPM and resistance of 6, which would mean Power >= 300), that would skew the regression line even more to the right and move the coefficient even further away from zero.\n",
    "\n",
    "So overall it means that either:\n",
    "\n",
    "- the assumption of linear dependency on resistance and velocity is wrong, but then it's completely unclear how the power is estimated\n",
    "- I wasn't accurate during measurements on lower intensities, but I think it's pretty unlikely as I did multiple measurement sessions and even if you ignore the higher variance, mean is still way above the regression line \n",
    "- the velocity/resistance reported by the machine are wrong or misleading. It's possible that the number machine assigns to 'resistance' doesn't really mean anything.\n",
    "\n",
    "## Conclusion\n",
    "\n",
    "¯\\\\_(ツ)_/¯\n",
    "\n",
    "I guess be careful about trusting the equipment and do your own experiments.\n",
    "\n",
    "As you can see, my initial project of finding some correlation with my HR turned out in a completely different direction.\n",
    "\n",
    "### Next steps\n",
    "Would be interesting to at least compare watts (theoretical and reported by the machine) versus calories estimated by Endomondo (which takes heart rate into account)."
   ]
  }
 ],
 "metadata": {
  "celltoolbar": "Edit Metadata",
  "kernelspec": {
   "display_name": "Python 3",
   "language": "python",
   "name": "python3"
  },
  "language_info": {
   "codemirror_mode": {
    "name": "ipython",
    "version": 3
   },
   "file_extension": ".py",
   "mimetype": "text/x-python",
   "name": "python",
   "nbconvert_exporter": "python",
   "pygments_lexer": "ipython3",
   "version": "3.7.3"
  },
  "name": "exercise-bike-model.ipynb"
 },
 "nbformat": 4,
 "nbformat_minor": 2
}
